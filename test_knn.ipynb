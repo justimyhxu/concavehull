{
 "cells": [
  {
   "cell_type": "code",
   "execution_count": 54,
   "metadata": {},
   "outputs": [],
   "source": [
    "# scipy knn \n",
    "import numpy as np\n",
    "import torch\n",
    "import matplotlib.pyplot as plt\n",
    "import time\n",
    "dataset = [[10.,  9.],[ 9., 18.],[16., 13.],[11., 15.],[12., 14.],[18., 12.],[ 2., 14.], [ 6., 18.],[ 9.,  9.],[10.,  8.],[ 6., 17.],[ 5.,  3.],[13., 19.],[ 3., 18.],[ 8., 17.],[ 9.,  7.],[13., 18.],[15.,  4.],[13., 16.]]\n",
    "dataset = np.array(dataset)\n",
    "point = np.array([3,0])"
   ]
  },
  {
   "cell_type": "code",
   "execution_count": 55,
   "metadata": {},
   "outputs": [
    {
     "name": "stdout",
     "output_type": "stream",
     "text": [
      "0.00018806815147399904\n"
     ]
    }
   ],
   "source": [
    "import scipy.spatial as spt\n",
    "begin = time.time()\n",
    "for i in range(1000):\n",
    "    mytree = spt.cKDTree(dataset, leafsize=10)\n",
    "    distances, indices = mytree.query(point,k=5)\n",
    "print((time.time()-begin)/1000)"
   ]
  },
  {
   "cell_type": "code",
   "execution_count": 56,
   "metadata": {},
   "outputs": [
    {
     "name": "stdout",
     "output_type": "stream",
     "text": [
      "[ 3.60555128  9.21954446 10.63014581 10.81665383 11.40175425] [11 15  9  8  0]\n"
     ]
    }
   ],
   "source": [
    "print(distances, indices)"
   ]
  },
  {
   "cell_type": "code",
   "execution_count": 57,
   "metadata": {},
   "outputs": [
    {
     "name": "stdout",
     "output_type": "stream",
     "text": [
      "0.0003317713737487793\n",
      "tensor([[ 3.6056,  9.2195, 10.6301, 10.8167, 11.4018]], device='cuda:0') tensor([[11, 15,  9,  8,  0]], device='cuda:0')\n"
     ]
    }
   ],
   "source": [
    "from knn_cuda import KNN\n",
    "dataset = torch.from_numpy(dataset).cuda()\n",
    "point = torch.from_numpy(point).view(1,-1).cuda()\n",
    "#  time.time()\n",
    "begin = time.time()\n",
    "for i in range(1000):\n",
    "    knn_tree = KNN(k=5, transpose_mode=True)\n",
    "    # print(type(dataset),type(point))\n",
    "    distances, indices = knn_tree(dataset, point)\n",
    "print((time.time()-begin)/1000)\n",
    "print(distances, indices)"
   ]
  },
  {
   "cell_type": "code",
   "execution_count": 52,
   "metadata": {},
   "outputs": [
    {
     "name": "stdout",
     "output_type": "stream",
     "text": [
      "0.00011891913414001465\n",
      "[[ 3.60555128  9.21954446 10.63014581 10.81665383 11.40175425]] [[11 15  9  8  0]]\n"
     ]
    }
   ],
   "source": [
    "from sklearn.neighbors import KDTree\n",
    "begin = time.time()\n",
    "for i in  range(1000):\n",
    "    tree = KDTree(dataset, leaf_size=100)\n",
    "    point = point.reshape(1,-1)\n",
    "print((time.time()-begin)/1000)\n",
    "d, i = tree.query(point, k=5)\n",
    "print(d,i)"
   ]
  },
  {
   "cell_type": "code",
   "execution_count": null,
   "metadata": {},
   "outputs": [],
   "source": []
  }
 ],
 "metadata": {
  "kernelspec": {
   "display_name": "Python 3",
   "language": "python",
   "name": "python3"
  },
  "language_info": {
   "codemirror_mode": {
    "name": "ipython",
    "version": 3
   },
   "file_extension": ".py",
   "mimetype": "text/x-python",
   "name": "python",
   "nbconvert_exporter": "python",
   "pygments_lexer": "ipython3",
   "version": "3.6.8"
  }
 },
 "nbformat": 4,
 "nbformat_minor": 2
}
